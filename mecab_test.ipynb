{
 "cells": [
  {
   "cell_type": "markdown",
   "id": "36aa8afe-7d02-4f5c-9c84-d0e7e769c832",
   "metadata": {},
   "source": [
    "# Mecabのテスト"
   ]
  },
  {
   "cell_type": "code",
   "execution_count": 1,
   "id": "00a15ccb-e868-4f95-897b-159334e5a4d7",
   "metadata": {},
   "outputs": [
    {
     "name": "stdout",
     "output_type": "stream",
     "text": [
      "E: Could not get lock /var/lib/dpkg/lock-frontend - open (11: Resource temporarily unavailable)\n",
      "E: Unable to acquire the dpkg frontend lock (/var/lib/dpkg/lock-frontend), is another process using it?\n",
      "/bin/sh: 1: aptitude: not found\n",
      "Collecting mecab-python3==0.996.5\n",
      "  Downloading mecab_python3-0.996.5-cp36-cp36m-manylinux2010_x86_64.whl (17.1 MB)\n",
      "\u001b[K     |████████████████████████████████| 17.1 MB 7.8 MB/s eta 0:00:01\n",
      "\u001b[?25hInstalling collected packages: mecab-python3\n",
      "Successfully installed mecab-python3-0.996.5\n",
      "\u001b[33mWARNING: Running pip as root will break packages and permissions. You should install packages reliably by using venv: https://pip.pypa.io/warnings/venv\u001b[0m\n",
      "Collecting unidic-lite\n",
      "  Downloading unidic-lite-1.0.8.tar.gz (47.4 MB)\n",
      "\u001b[K     |████████████████████████████████| 47.4 MB 73 kB/s  eta 0:00:01\n",
      "\u001b[?25hBuilding wheels for collected packages: unidic-lite\n",
      "  Building wheel for unidic-lite (setup.py) ... \u001b[?25ldone\n",
      "\u001b[?25h  Created wheel for unidic-lite: filename=unidic_lite-1.0.8-py3-none-any.whl size=47658823 sha256=8648f1cc3727ac2bf7dcad6383e3352b242a7488d017a0cc5f46ca051bd51aa4\n",
      "  Stored in directory: /root/.cache/pip/wheels/25/80/5e/20fc65cafeb3e6b3c8ed00950e26f929dd18b49db7a311b272\n",
      "Successfully built unidic-lite\n",
      "Installing collected packages: unidic-lite\n",
      "Successfully installed unidic-lite-1.0.8\n",
      "\u001b[33mWARNING: Running pip as root will break packages and permissions. You should install packages reliably by using venv: https://pip.pypa.io/warnings/venv\u001b[0m\n"
     ]
    }
   ],
   "source": [
    "!apt install aptitude -y\n",
    "!aptitude install mecab libmecab-dev mecab-ipadic-utf8 git make curl xz-utils file -y\n",
    "!pip install mecab-python3==0.996.5\n",
    "!pip install unidic-lite"
   ]
  },
  {
   "cell_type": "code",
   "execution_count": 2,
   "id": "31ef4210-c060-4af2-a1ae-c5747dadf99f",
   "metadata": {},
   "outputs": [],
   "source": [
    "import MeCab"
   ]
  },
  {
   "cell_type": "code",
   "execution_count": 3,
   "id": "ce88d362-1095-4c3a-a525-ec8294fe74f5",
   "metadata": {},
   "outputs": [],
   "source": [
    "# MeCab::Taggerクラスのインスタンスを作成\n",
    "m = MeCab.Tagger()"
   ]
  },
  {
   "cell_type": "code",
   "execution_count": 4,
   "id": "3319347b-e3a7-45fe-b772-304c132eb2a4",
   "metadata": {},
   "outputs": [],
   "source": [
    "sentence = 'すもももももももものうち'"
   ]
  },
  {
   "cell_type": "code",
   "execution_count": 5,
   "id": "24b43722-057c-433a-a2de-d69fd2d52718",
   "metadata": {},
   "outputs": [],
   "source": [
    "# 日本語文章の解析処理\n",
    "ma = m.parse(sentence)"
   ]
  },
  {
   "cell_type": "code",
   "execution_count": 6,
   "id": "46bd82d4-5bff-490a-9ced-6f52a37fc920",
   "metadata": {},
   "outputs": [
    {
     "name": "stdout",
     "output_type": "stream",
     "text": [
      "すもも\t名詞,一般,*,*,*,*,すもも,スモモ,スモモ\n",
      "も\t助詞,係助詞,*,*,*,*,も,モ,モ\n",
      "もも\t名詞,一般,*,*,*,*,もも,モモ,モモ\n",
      "も\t助詞,係助詞,*,*,*,*,も,モ,モ\n",
      "もも\t名詞,一般,*,*,*,*,もも,モモ,モモ\n",
      "の\t助詞,連体化,*,*,*,*,の,ノ,ノ\n",
      "うち\t名詞,非自立,副詞可能,*,*,*,うち,ウチ,ウチ\n",
      "EOS\n",
      "\n"
     ]
    }
   ],
   "source": [
    "# 解析結果を表示\n",
    "print(ma)"
   ]
  },
  {
   "cell_type": "code",
   "execution_count": 7,
   "id": "6365c086-7e4f-46b6-931b-f873c2955d10",
   "metadata": {},
   "outputs": [
    {
     "name": "stdout",
     "output_type": "stream",
     "text": [
      " , *\n",
      "すもも , 一般\n",
      "も , 係助詞\n",
      "もも , 一般\n",
      "も , 係助詞\n",
      "もも , 一般\n",
      "の , 連体化\n",
      "うち , 非自立\n",
      " , *\n"
     ]
    }
   ],
   "source": [
    "#１、nodeを解析直後の状態に戻す\n",
    "node = m.parseToNode(sentence)\n",
    "#２、繰り返し処理\n",
    "while node:\n",
    "#３、単語を取得\n",
    "    word = node.surface\n",
    "#４、品詞を取得\n",
    "    pos = node.feature.split(\",\")[1]\n",
    "#５、単語と品詞を表示\n",
    "    print('{0} , {1}'.format(word, pos))\n",
    "#６、次の単語に進める\n",
    "    node = node.next"
   ]
  },
  {
   "cell_type": "code",
   "execution_count": null,
   "id": "8ebf8a06-e071-49b4-8406-91b124c6d09d",
   "metadata": {},
   "outputs": [],
   "source": []
  }
 ],
 "metadata": {
  "kernelspec": {
   "display_name": "Python 3",
   "language": "python",
   "name": "python3"
  },
  "language_info": {
   "codemirror_mode": {
    "name": "ipython",
    "version": 3
   },
   "file_extension": ".py",
   "mimetype": "text/x-python",
   "name": "python",
   "nbconvert_exporter": "python",
   "pygments_lexer": "ipython3",
   "version": "3.6.9"
  }
 },
 "nbformat": 4,
 "nbformat_minor": 5
}
