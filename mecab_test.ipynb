{
 "cells": [
  {
   "cell_type": "markdown",
   "id": "36aa8afe-7d02-4f5c-9c84-d0e7e769c832",
   "metadata": {},
   "source": [
    "# Mecabのテスト"
   ]
  },
  {
   "cell_type": "code",
   "execution_count": 1,
   "id": "31ef4210-c060-4af2-a1ae-c5747dadf99f",
   "metadata": {},
   "outputs": [],
   "source": [
    "import MeCab"
   ]
  },
  {
   "cell_type": "code",
   "execution_count": 2,
   "id": "ce88d362-1095-4c3a-a525-ec8294fe74f5",
   "metadata": {},
   "outputs": [],
   "source": [
    "# MeCab::Taggerクラスのインスタンスを作成\n",
    "m = MeCab.Tagger('-d /usr/lib/x86_64-linux-gnu/mecab/dic/mecab-ipadic-neologd')"
   ]
  },
  {
   "cell_type": "code",
   "execution_count": 3,
   "id": "3319347b-e3a7-45fe-b772-304c132eb2a4",
   "metadata": {},
   "outputs": [],
   "source": [
    "sentence = '鬼滅の刃の映画を見に行った。'"
   ]
  },
  {
   "cell_type": "code",
   "execution_count": 4,
   "id": "24b43722-057c-433a-a2de-d69fd2d52718",
   "metadata": {},
   "outputs": [],
   "source": [
    "# 日本語文章の解析処理\n",
    "ma = m.parse(sentence)"
   ]
  },
  {
   "cell_type": "code",
   "execution_count": 5,
   "id": "46bd82d4-5bff-490a-9ced-6f52a37fc920",
   "metadata": {},
   "outputs": [
    {
     "name": "stdout",
     "output_type": "stream",
     "text": [
      "鬼滅の刃\t名詞,固有名詞,一般,*,*,*,鬼滅の刃,キメツノヤイバ,キメツノヤイバ\n",
      "の\t助詞,連体化,*,*,*,*,の,ノ,ノ\n",
      "映画\t名詞,一般,*,*,*,*,映画,エイガ,エイガ\n",
      "を\t助詞,格助詞,一般,*,*,*,を,ヲ,ヲ\n",
      "見\t動詞,自立,*,*,一段,連用形,見る,ミ,ミ\n",
      "に\t助詞,格助詞,一般,*,*,*,に,ニ,ニ\n",
      "行っ\t動詞,自立,*,*,五段・カ行促音便,連用タ接続,行く,イッ,イッ\n",
      "た\t助動詞,*,*,*,特殊・タ,基本形,た,タ,タ\n",
      "。\t記号,句点,*,*,*,*,。,。,。\n",
      "EOS\n",
      "\n"
     ]
    }
   ],
   "source": [
    "# 解析結果を表示\n",
    "print(ma)"
   ]
  },
  {
   "cell_type": "code",
   "execution_count": 6,
   "id": "6365c086-7e4f-46b6-931b-f873c2955d10",
   "metadata": {},
   "outputs": [
    {
     "name": "stdout",
     "output_type": "stream",
     "text": [
      " , *\n",
      "鬼滅の刃 , 固有名詞\n",
      "の , 連体化\n",
      "映画 , 一般\n",
      "を , 格助詞\n",
      "見 , 自立\n",
      "に , 格助詞\n",
      "行っ , 自立\n",
      "た , *\n",
      "。 , 句点\n",
      " , *\n"
     ]
    }
   ],
   "source": [
    "#１、nodeを解析直後の状態に戻す\n",
    "node = m.parseToNode(sentence)\n",
    "#２、繰り返し処理\n",
    "while node:\n",
    "#３、単語を取得\n",
    "    word = node.surface\n",
    "#４、品詞を取得\n",
    "    pos = node.feature.split(\",\")[1]\n",
    "#５、単語と品詞を表示\n",
    "    print('{0} , {1}'.format(word, pos))\n",
    "#６、次の単語に進める\n",
    "    node = node.next"
   ]
  },
  {
   "cell_type": "code",
   "execution_count": null,
   "id": "8ebf8a06-e071-49b4-8406-91b124c6d09d",
   "metadata": {},
   "outputs": [],
   "source": []
  }
 ],
 "metadata": {
  "kernelspec": {
   "display_name": "Python 3",
   "language": "python",
   "name": "python3"
  },
  "language_info": {
   "codemirror_mode": {
    "name": "ipython",
    "version": 3
   },
   "file_extension": ".py",
   "mimetype": "text/x-python",
   "name": "python",
   "nbconvert_exporter": "python",
   "pygments_lexer": "ipython3",
   "version": "3.6.9"
  }
 },
 "nbformat": 4,
 "nbformat_minor": 5
}
